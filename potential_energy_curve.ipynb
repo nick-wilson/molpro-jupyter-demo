{
 "cells": [
  {
   "cell_type": "code",
   "execution_count": 10,
   "metadata": {},
   "outputs": [],
   "source": [
    "backend = 'local' # if preferred, change this to one of the backends in your ~/.sjef/molpro/backends.xml that is ssh-accessible\n",
    "parallel = 4 # how many jobs to run at once"
   ]
  },
  {
   "cell_type": "code",
   "execution_count": 11,
   "metadata": {},
   "outputs": [],
   "source": [
    "from pysjef import all_completed, DirectoryNode\n",
    "from pysjef_molpro import no_errors, Project\n",
    "import numpy"
   ]
  },
  {
   "cell_type": "code",
   "execution_count": 12,
   "metadata": {},
   "outputs": [],
   "source": [
    "root = DirectoryNode('potential_energy_curve')"
   ]
  },
  {
   "cell_type": "code",
   "execution_count": 26,
   "metadata": {},
   "outputs": [],
   "source": [
    "grid = [0.5, 0.6, 0.7, 0.8, 0.9, 1.0, 1.5, 2, 2.5, 3, 4, 5]\n",
    "for i, D in enumerate(grid):\n",
    "    p = root.add_child(f'd{i}', suffix='molpro')\n",
    "    p.write_input(\n",
    "    f\"\"\"angstrom;geometry={{\n",
    "        H1\n",
    "        H2 H1 {D} }}\n",
    "    basis = cc-pVTZ\n",
    "    rhf\n",
    "    mrci\"\"\")"
   ]
  },
  {
   "cell_type": "code",
   "execution_count": 27,
   "metadata": {},
   "outputs": [
    {
     "name": "stdout",
     "output_type": "stream",
     "text": [
      "all completed True\n",
      "without errors True\n"
     ]
    }
   ],
   "source": [
    "from multiprocessing.dummy import Pool\n",
    "from operator import methodcaller\n",
    "with Pool(processes=parallel) as pool:\n",
    "    pool.map(methodcaller('run', backend=backend, wait=True),\n",
    "             root.children, 1)\n",
    "print('all completed', all_completed(root.children))\n",
    "print('without errors', no_errors(root.children))"
   ]
  },
  {
   "cell_type": "code",
   "execution_count": 28,
   "metadata": {
    "scrolled": false
   },
   "outputs": [
    {
     "data": {
      "image/png": "[encoded data removed]",
      "text/plain": [
       "<Figure size 432x288 with 1 Axes>"
      ]
     },
     "metadata": {
      "needs_background": "light"
     },
     "output_type": "display_data"
    }
   ],
   "source": [
    "import matplotlib.pyplot as plt\n",
    "import numpy as np\n",
    "from scipy.interpolate import InterpolatedUnivariateSpline as interp\n",
    "ehf = root.select(\n",
    "    '//jobstep[command=RHF-SCF]/property[name=Energy].value')\n",
    "eci = root.select(\n",
    "    '//jobstep[command=MRCI]/property[name=Energy].value')\n",
    "interp_r=(np.linspace(grid[0],grid[-1],100))\n",
    "plt.plot( interp_r, interp(grid,ehf)(interp_r),interp_r,interp(grid,eci)(interp_r))\n",
    "plt.plot(grid, ehf, 'bo',grid,eci, 'ro')\n",
    "plt.legend([r'RHF',r'CI'])\n",
    "plt.xlabel(r'Bond length $/ \\AA$')\n",
    "plt.ylabel(r'Energy $/E_h$')\n",
    "plt.savefig(\"potential_energy_curve.pdf\", bbox_inches='tight')"
   ]
  }
 ],
 "metadata": {
  "kernelspec": {
   "display_name": "Python 3 (ipykernel)",
   "language": "python",
   "name": "python3"
  },
  "language_info": {
   "codemirror_mode": {
    "name": "ipython",
    "version": 3
   },
   "file_extension": ".py",
   "mimetype": "text/x-python",
   "name": "python",
   "nbconvert_exporter": "python",
   "pygments_lexer": "ipython3",
   "version": "3.10.2"
  },
  "toc": {
   "base_numbering": 1,
   "nav_menu": {},
   "number_sections": true,
   "sideBar": true,
   "skip_h1_title": false,
   "title_cell": "Table of Contents",
   "title_sidebar": "Contents",
   "toc_cell": false,
   "toc_position": {},
   "toc_section_display": true,
   "toc_window_display": false
  },
  "varInspector": {
   "cols": {
    "lenName": 16,
    "lenType": 16,
    "lenVar": 40
   },
   "kernels_config": {
    "python": {
     "delete_cmd_postfix": "",
     "delete_cmd_prefix": "del ",
     "library": "var_list.py",
     "varRefreshCmd": "print(var_dic_list())"
    },
    "r": {
     "delete_cmd_postfix": ") ",
     "delete_cmd_prefix": "rm(",
     "library": "var_list.r",
     "varRefreshCmd": "cat(var_dic_list()) "
    }
   },
   "types_to_exclude": [
    "module",
    "function",
    "builtin_function_or_method",
    "instance",
    "_Feature"
   ],
   "window_display": false
  }
 },
 "nbformat": 4,
 "nbformat_minor": 4
}
