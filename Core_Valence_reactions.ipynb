{
 "cells": [
  {
   "cell_type": "markdown",
   "metadata": {},
   "source": [
    "# Closed shell reactions with core correlation"
   ]
  },
  {
   "cell_type": "markdown",
   "metadata": {},
   "source": [
    "Bak et al., [doi:10.1063/1.1357225](https://doi.org/10.1063/1.1357225) and [doi:10.1063/1.481544](https://doi.org/10.1063/1.481544)"
   ]
  },
  {
   "cell_type": "code",
   "execution_count": 1,
   "metadata": {},
   "outputs": [],
   "source": [
    "import numpy as np\n",
    "import pandas as pd\n",
    "import scipy.stats as stats\n",
    "import matplotlib.pyplot as plt\n",
    "from pysjef import all_completed, DirectoryNode\n",
    "from pysjef_molpro import no_errors, Project\n",
    "from shutil import rmtree\n",
    "from os.path import exists\n",
    "pd.set_option(\"display.precision\",2)"
   ]
  },
  {
   "cell_type": "code",
   "execution_count": 2,
   "metadata": {},
   "outputs": [],
   "source": [
    "backend = 'local' # If preferred, change this to one of the backends in your ~/.sjef/molpro/backends.xml that is ssh-accessible\n",
    "project_name = 'Core_Valence_reactions'"
   ]
  },
  {
   "cell_type": "code",
   "execution_count": 3,
   "metadata": {},
   "outputs": [],
   "source": [
    "methods = ['HF','MP2','MP3','PAPT2','PAPT3', 'CCSD','MP4','PAPT4', 'CCSD(T)']\n",
    "# methods = ['PAPT3','PAPT4', 'CCSD(T)']\n",
    "bases = ['cc-pCVDZ']\n",
    "#bases = ['cc-pCVTZ']\n",
    "#bases = ['cc-pCVQZ']\n",
    "# bases = ['cc-pCVQZ','cc-pCV5Z']\n",
    "# bases = ['cc-pCV5Z']\n",
    "bases = ['cc-pCVDZ','cc-pCVTZ','cc-pCVQZ', 'cc-pCV5Z']\n",
    "# bases = ['cc-pCVDZ','cc-pCVTZ','cc-pCVQZ']\n",
    "# bases = ['cc-pCVDZ','cc-pCVTZ']"
   ]
  },
  {
   "cell_type": "code",
   "execution_count": 4,
   "metadata": {},
   "outputs": [],
   "source": [
    "closed_shell_methods={'B3LYP' : \"ks, b3lyp\", \"HF\" : \"hf\", \"MP2\":\"mp2\",\"MP3\":\"mp3\",\"MP4\":\"mp4\",\"CCSD\":\"ccsd\",\"CCSD(T)\":\"ccsd(t)\", \"PAPT2\":\"papt;mp2\", \"PAPT3\":\"papt;mp3\", \"PAPT4\":\"papt;mp4\"}"
   ]
  },
  {
   "cell_type": "code",
   "execution_count": 5,
   "metadata": {
    "scrolled": true
   },
   "outputs": [],
   "source": [
    "molecules={}\n",
    "molecules[\"F2\"] = {\"De_exp\" : 163.35, \"De_calc\" : 161.04, \"geometry\" : \"F;F,F,1.41134168\", \"stoichiometry\": \"FF\"}\n",
    "molecules[\"H2\"] = {\"De_exp\" : 458.04, \"De_calc\" : 458.13, \"geometry\" : \"H;H,H,0.74184515\", \"stoichiometry\": \"HH\"}\n",
    "molecules[\"HF\"] = {\"De_exp\" : 593.16, \"De_calc\" : 593.20, \"geometry\" : \"H;F,H,0.91576748\", \"stoichiometry\": \"HF\"}\n",
    "molecules[\"CH2\"] = {\"De_exp\" : 757.06, \"De_calc\" : 575.87, \"geometry\" : \"C;H,C,1.10678917;H,C,1.10678917,H,102.02249921\", \"stoichiometry\": \"CHH\"}\n",
    "molecules[\"HNO\"] = {\"De_exp\" : 861.50, \"De_calc\" : 860.12, \"geometry\" : \"H;N,H,1.05238269;O,N,1.20847128,H,108.08480747\", \"stoichiometry\": \"HNO\"}\n",
    "molecules[\"N2\"] = {\"De_exp\" : 956.28, \"De_calc\" : 954.68, \"geometry\" : \"N;N,N,1.09811947\", \"stoichiometry\": \"NN\"}\n",
    "molecules[\"H2O\"] = {\"De_exp\" : 975.28, \"De_calc\" : 975.32, \"geometry\" : \"H;O,H,0.95711647;H,O,0.95711647,H,104.22359713\", \"stoichiometry\": \"HHO\"}\n",
    "molecules[\"CO\"] = {\"De_exp\" : 1086.70, \"De_calc\" : 1086.70, \"geometry\" : \"C;O,C,1.12887680\", \"stoichiometry\": \"CO\"}\n",
    "molecules[\"H2O2\"] = {\"De_exp\" : 1126.91, \"De_calc\" : 1125.82, \"geometry\" : \"H1;O1,H1,0.9619;O2,O1,1.4497,H1,99.99;H2,O2,0.9619,O1,99.99,H1,112.7\", \"stoichiometry\": \"HHOO\"}\n",
    "molecules[\"NH3\"] = {\"De_exp\" : 1247.88, \"De_calc\" : 1247.15, \"geometry\" : \"N1;X,N1,10;H1,N1,1.01116937,X,112.42635522;H2,N1,1.01116937,X,112.42635522,H1,120;H3,N1,1.01116937,X,112.42635522,H2,120\", \"stoichiometry\": \"NHHH\"}\n",
    "molecules[\"HCN\"] = {\"De_exp\" : 1312.75, \"De_calc\" : 1310.72, \"geometry\" : \"H;C,H,1.06553056;N,C,1.15383982,H,180\", \"stoichiometry\": \"HCN\"}\n",
    "molecules[\"CH2O\"] = {\"De_exp\" : 1566.58, \"De_calc\" : 1567.78, \"geometry\" : \"C;O,C,1.20430342;H1,C,1.10077162,O,121.78046616;H2,C,1.10077162,O,121.78046616,H1,180\", \"stoichiometry\": \"CHHO\"}\n",
    "molecules[\"CO2\"] = {\"De_exp\" : 1632.46, \"De_calc\" : 1632.77, \"geometry\" : \"O1;C,O1,1.16039505;O2,C,1.16039505,O1,180\", \"stoichiometry\": \"COO\"}\n",
    "molecules[\"C2H2\"] = {\"De_exp\" : 1697.84, \"De_calc\" : 1696.81, \"geometry\" : \"H1;C1,H1,1.06209557;C2,C1,1.20366063,H1,180;H2,C2,1.06209557,C1,180,H1,0\", \"stoichiometry\": \"CCHH\"}\n",
    "molecules[\"CH4\"] = {\"De_exp\" : 1759.33, \"De_calc\" : 1759.30, \"geometry\" : \"C1;H4,C1,1.08637390;H1,C1,1.08637390,H4,109.47122063;H2,C1,1.08637390,H4,109.47122063,H1,120;H3,C1,1.08637390,H4,109.47122063,H2,120\", \"stoichiometry\": \"CHHHH\"}\n",
    "molecules[\"C2H4\"] = {\"De_exp\" : 2359.82, \"De_calc\" : 2360.55, \"geometry\" : \"C1;C2,C1,1.33117445;H11,C1,1.08089487,C2,121.44926360;H12,C1,1.08089487,C2,121.44926360,H11,180;H21,C2,1.08089487,C1,121.44926360,H11,0;H22,C2,1.08089487,C1,121.44926360,H12,0\", \"stoichiometry\": \"CCHHHH\"}"
   ]
  },
  {
   "cell_type": "code",
   "execution_count": 6,
   "metadata": {},
   "outputs": [],
   "source": [
    "root = DirectoryNode(project_name)"
   ]
  },
  {
   "cell_type": "code",
   "execution_count": 7,
   "metadata": {},
   "outputs": [],
   "source": [
    "def proj(molecule,method,basis):\n",
    "    return Project((molecule+\"--\"+method+\"--\"+basis).replace('(T)','-T'),location=project_name,suffix='molpro')"
   ]
  },
  {
   "cell_type": "code",
   "execution_count": 8,
   "metadata": {
    "scrolled": true
   },
   "outputs": [],
   "source": [
    "for method in methods:\n",
    "    for basis in bases:\n",
    "        for molecule, content in (molecules).items():\n",
    "            p = proj(molecule,method,basis)\n",
    "            root.children.append(p)\n",
    "            p.write_input(\n",
    "            f\"\"\"memory,1,g;\n",
    "angstrom;geometry={{\n",
    "{content[\"geometry\"]}\n",
    "}}\n",
    "basis = {basis}\n",
    "rhf;{\"{mp2;core}\" if method != \"HF\" else \"\"}\n",
    "{open_shell_methods[method] if content.get(\"open_shell\") else closed_shell_methods[method]}\n",
    "            \"\"\")"
   ]
  },
  {
   "cell_type": "code",
   "execution_count": 9,
   "metadata": {
    "scrolled": true
   },
   "outputs": [
    {
     "name": "stdout",
     "output_type": "stream",
     "text": [
      "all completed True\n",
      "without errors True\n"
     ]
    }
   ],
   "source": [
    "from multiprocessing.dummy import Pool\n",
    "from operator import methodcaller\n",
    "with Pool(processes=7) as pool:\n",
    "    pool.map(methodcaller('run', backend=backend, wait=True),\n",
    "             root.children, 1)\n",
    "print('all completed', all_completed(root.children))\n",
    "print('without errors', no_errors(root.children))"
   ]
  },
  {
   "cell_type": "code",
   "execution_count": 10,
   "metadata": {
    "scrolled": true
   },
   "outputs": [],
   "source": [
    "def get_energy(proj):\n",
    "    return ([None]+proj.select('//jobstep/property[name=Energy].value') + proj.select('//jobstep/property[name=total energy].value'))[-1]\n",
    "\n",
    "energies={}\n",
    "for method in methods:\n",
    "    energies[method]={}\n",
    "    for basis in bases:\n",
    "        energies[method][basis]={}\n",
    "        for name, molecule in (molecules).items():\n",
    "            energies[method][basis][name]=get_energy(proj(name,method,basis))\n",
    "#             print(method, basis, name,energies[method][basis][name])"
   ]
  },
  {
   "cell_type": "markdown",
   "metadata": {},
   "source": [
    "## UMP energy calculations on single atoms"
   ]
  },
  {
   "cell_type": "code",
   "execution_count": 11,
   "metadata": {},
   "outputs": [],
   "source": [
    "Gaussian_energies={}\n",
    "Gaussian_energies[\"F\"]={}\n",
    "Gaussian_energies[\"F\"][\"UMP2\"]={\"cc-pVDZ\":-99.515840371927, \"cc-pVTZ\":-99.605360341518, \"cc-pVQZ\":-99.635206166923 , \"cc-pV5Z\":-99.646728451025 , \"cc-pV6Z\":-99.635206166923 }\n",
    "Gaussian_energies[\"F\"][\"UMP3\"]={\"cc-pVDZ\":-99.525416177, \"cc-pVTZ\":-99.615703384, \"cc-pVQZ\":-99.644886857 , \"cc-pV5Z\":-99.654989814 , \"cc-pV6Z\":-99.644886857 }\n",
    "Gaussian_energies[\"H\"]={}\n",
    "Gaussian_energies[\"H\"][\"UMP2\"]={\"cc-pVDZ\":-0.49927840341958, \"cc-pVTZ\":-0.49980981130184, \"cc-pVQZ\":-0.49994556858299 , \"cc-pV5Z\":-0.4999945351589, \"cc-pV6Z\":-0.49999924451 }\n",
    "Gaussian_energies[\"H\"][\"UMP3\"]={\"cc-pVDZ\":-0.49927840341958, \"cc-pVTZ\":-0.49980981130184, \"cc-pVQZ\":-0.49994556858299 , \"cc-pV5Z\":-0.4999945351589, \"cc-pV6Z\":-0.49999924451 }\n",
    "Gaussian_energies[\"C\"]={}\n",
    "Gaussian_energies[\"C\"][\"UMP2\"]={\"cc-pVDZ\":-37.738309694143, \"cc-pVTZ\":-37.758487688168, \"cc-pVQZ\":-37.765362751860, \"cc-pV5Z\":-37.767825433516}\n",
    "Gaussian_energies[\"C\"][\"UMP3\"]={\"cc-pVDZ\":-37.739298546, \"cc-pVTZ\":-37.759753173, \"cc-pVQZ\":-37.766715197, \"cc-pV5Z\":-37.769191897 }\n",
    "Gaussian_energies[\"N\"]={}\n",
    "Gaussian_energies[\"N\"][\"UMP2\"]={\"cc-pVDZ\":-54.461855085453, \"cc-pVTZ\":-54.496616702219, \"cc-pVQZ\":-54.388882627866, \"cc-pV5Z\":-54.394293653862}\n",
    "Gaussian_energies[\"N\"][\"UMP3\"]={\"cc-pVDZ\":-54.462407727, \"cc-pVTZ\":-54.497321454,  \"cc-pVQZ\":-54.390411172, \"cc-pV5Z\":-54.395871950}\n",
    "Gaussian_energies[\"O\"]={}\n",
    "Gaussian_energies[\"O\"][\"UMP2\"]={\"cc-pVDZ\":-74.894131558977, \"cc-pVTZ\":-74.954902320396, \"cc-pVQZ\":-74.974886832628}\n",
    "Gaussian_energies[\"O\"][\"UMP3\"]={\"cc-pVDZ\":-74.895257854, \"cc-pVTZ\":-74.956521541, \"cc-pVQZ\":-74.976685205}"
   ]
  },
  {
   "cell_type": "markdown",
   "metadata": {},
   "source": [
    "## Extrapolation"
   ]
  },
  {
   "cell_type": "code",
   "execution_count": 12,
   "metadata": {},
   "outputs": [],
   "source": [
    "extrapolations={}\n",
    "if 'cc-pCVDZ' in bases and 'cc-pCVTZ' in bases:\n",
    "    extrapolations[\"DT\"]={'x':2, 'first':'cc-pCVDZ', 'second':'cc-pCVTZ'}\n",
    "if 'cc-pCVTZ' in bases and 'cc-pCVQZ' in bases:\n",
    "    extrapolations[\"TQ\"]={'x':3, 'first':'cc-pCVTZ', 'second':'cc-pCVQZ'}\n",
    "if 'cc-pCVQZ' in bases and 'cc-pCV5Z' in bases:\n",
    "    extrapolations[\"Q5\"]={'x':4, 'first':'cc-pCVQZ', 'second':'cc-pCV5Z'}\n",
    "\n",
    "for extr in extrapolations:\n",
    "    x=extrapolations[extr]['x']\n",
    "    xbas=extrapolations[extr]['first']\n",
    "    xpbas=extrapolations[extr]['second']\n",
    "    for method in methods:\n",
    "        energies[method][extr]={}\n",
    "        for molecule in molecules:\n",
    "            energies[method][extr][molecule] = energies['HF'][xpbas][molecule] + (\n",
    "                x*x*x*(energies[method][xbas][molecule]-energies['HF'][xbas][molecule])\n",
    "                -(x+1)*(x+1)*(x+1)*(energies[method][xpbas][molecule]-energies['HF'][xpbas][molecule])\n",
    "            ) / (x*x*x-(x+1)*(x+1)*(x+1))\n",
    "    bases.append(extr) if extr not in bases else \"\""
   ]
  },
  {
   "cell_type": "markdown",
   "metadata": {},
   "source": [
    "## Calculated enthalpy changes"
   ]
  },
  {
   "cell_type": "code",
   "execution_count": 13,
   "metadata": {},
   "outputs": [],
   "source": [
    "reactions={}\n",
    "reactions[\"1\"] = {\"CO\" : -1, \"H2\" : -1, \"CH2O\" : +1}\n",
    "reactions[\"2\"] = {\"N2\" : -1, \"H2\" : -3, \"NH3\" : +2}\n",
    "reactions[\"3\"] = {\"C2H2\" : -1, \"H2\" : -1, \"C2H4\" : +1}\n",
    "reactions[\"4\"] = {\"CO2\" : -1, \"H2\" : -4, \"CH4\" : +1, \"H2O\" : +2}\n",
    "reactions[\"5\"] = {\"CH2O\" : -1, \"H2\" : -2, \"CH4\" : +1, \"H2O\" : +1}\n",
    "reactions[\"6\"] = {\"CO\" : -1, \"H2\" : -3, \"CH4\" : +1, \"H2O\" : +1}\n",
    "reactions[\"7\"] = {\"HCN\" : -1, \"H2\" : -3, \"CH4\" : +1, \"NH3\" : +1}\n",
    "reactions[\"8\"] = {\"H2O2\" : -1, \"H2\" : -1, \"H2O\" : +2}\n",
    "reactions[\"9\"] = {\"HNO\" : -1, \"H2\" : -2, \"H2O\" : +1, \"NH3\" : +1}\n",
    "reactions[\"10\"] = {\"C2H2\" : -1, \"H2\" : -3, \"CH4\" : +2}\n",
    "reactions[\"11\"] = {\"CH2\" : -1, \"H2\" : -1, \"CH4\" : +1}\n",
    "reactions[\"12\"] = {\"F2\" : -1, \"H2\" : -1, \"HF\" : +2}\n",
    "reactions[\"13\"] = {\"CH2\" : -2, \"C2H4\" : +1}"
   ]
  },
  {
   "cell_type": "code",
   "execution_count": 14,
   "metadata": {},
   "outputs": [],
   "source": [
    "Molpro_enthalpy={}\n",
    "for method in methods:\n",
    "    Molpro_enthalpy[method]={}\n",
    "    for basis in bases:\n",
    "        Molpro_enthalpy[method][basis]={}\n",
    "        for name in reactions:\n",
    "            reaction_enthalpy_au = 0\n",
    "            for molecule in reactions[name]:\n",
    "                reaction_enthalpy_au += energies[method][basis][molecule] * reactions[name][molecule]\n",
    "            reaction_enthalpy_kjmol = reaction_enthalpy_au * 2625.49963948\n",
    "            Molpro_enthalpy[method][basis][name] =+ reaction_enthalpy_kjmol\n",
    "            "
   ]
  },
  {
   "cell_type": "markdown",
   "metadata": {},
   "source": [
    "## Reference experimental and calculated reaction enthalpy changes "
   ]
  },
  {
   "cell_type": "code",
   "execution_count": 15,
   "metadata": {},
   "outputs": [],
   "source": [
    "Exp_enthalpy={}\n",
    "for name in reactions:\n",
    "    reaction_enthalpy_kjmol = 0\n",
    "    for molecule in reactions[name]:\n",
    "        reaction_enthalpy_kjmol -= molecules[molecule][\"De_exp\"] * reactions[name][molecule]\n",
    "    Exp_enthalpy[name] =+ reaction_enthalpy_kjmol"
   ]
  },
  {
   "cell_type": "code",
   "execution_count": 16,
   "metadata": {},
   "outputs": [],
   "source": [
    "Calc_enthalpy={}\n",
    "for name in reactions:\n",
    "    reaction_enthalpy_kjmol = 0\n",
    "    for molecule in reactions[name]:\n",
    "        reaction_enthalpy_kjmol -= molecules[molecule][\"De_calc\"] * reactions[name][molecule]\n",
    "    Calc_enthalpy[name] =+ reaction_enthalpy_kjmol"
   ]
  },
  {
   "cell_type": "markdown",
   "metadata": {},
   "source": [
    "## Statistical analysis of calculated enthalpy changes"
   ]
  },
  {
   "cell_type": "code",
   "execution_count": 17,
   "metadata": {},
   "outputs": [],
   "source": [
    "def collect_errors(reference_data):\n",
    "    e={}\n",
    "    for basis in bases:\n",
    "        e[basis]={}\n",
    "        for method in methods:\n",
    "            e[basis][method]={}\n",
    "            for reaction in reactions:\n",
    "                e[basis][method][reaction] = Molpro_enthalpy[method][basis][reaction] - reference_data[reaction]\n",
    "    return e\n",
    "error_with_respect_to_experimental_enthalpy=collect_errors(Exp_enthalpy)\n",
    "error_with_respect_to_calculated_enthalpy=collect_errors(Calc_enthalpy)"
   ]
  },
  {
   "cell_type": "code",
   "execution_count": 18,
   "metadata": {},
   "outputs": [
    {
     "data": {
      "image/png": "[encoded data removed]",
      "text/plain": [
       "<Figure size 1296x432 with 3 Axes>"
      ]
     },
     "metadata": {
      "needs_background": "light"
     },
     "output_type": "display_data"
    }
   ],
   "source": [
    "methods_pruned = methods[1:]\n",
    "bases_pruned = ['cc-pCV5Z','TQ','Q5']\n",
    "fig, panes = plt.subplots(nrows=1, ncols=len(bases_pruned), sharey=True, figsize=(18,6))\n",
    "\n",
    "for pane in range(len(bases_pruned)):\n",
    "    data=[]\n",
    "    for method in methods_pruned:\n",
    "        data.append(list(error_with_respect_to_experimental_enthalpy[bases_pruned[pane]][method].values()))\n",
    "    panes[pane].violinplot(data,showmeans=True,showextrema=True,vert=True, bw_method='silverman')\n",
    "    panes[pane].set_xticks(range(1,len(methods_pruned)+1),labels=methods_pruned, rotation=-90)\n",
    "    panes[pane].set_title(bases_pruned[pane])\n",
    "panes[0].set_ylabel('Error / kJ/mol')\n",
    "plt.savefig(project_name+\".violin.pdf\")"
   ]
  },
  {
   "cell_type": "markdown",
   "metadata": {},
   "source": [
    "### Mean error"
   ]
  },
  {
   "cell_type": "code",
   "execution_count": 19,
   "metadata": {},
   "outputs": [],
   "source": [
    "def error(method, basis, name):\n",
    "    return Molpro_enthalpy[method][basis][name]-Exp_enthalpy[name]\n",
    "\n",
    "lit_exp_molpro_error={}\n",
    "for name in reactions:\n",
    "    lit_exp_molpro_error[name]={}\n",
    "    for method in methods:\n",
    "        lit_exp_molpro_error[name][method]={}\n",
    "        for basis in bases:\n",
    "            lit_exp_molpro_error[name][method][basis]={}\n",
    "            test_enthalpy = Molpro_enthalpy[method][basis][name]\n",
    "            comparison_enthalpy = Exp_enthalpy[name]\n",
    "            error = test_enthalpy - comparison_enthalpy\n",
    "            lit_exp_molpro_error[name][method][basis] =+ error\n",
    "\n",
    "lit_exp_molpro_meanerror={}\n",
    "for method in methods:\n",
    "    lit_exp_molpro_meanerror[method]={}\n",
    "    for basis in bases:\n",
    "        lit_exp_molpro_meanerror[method][basis]={}\n",
    "        error_sum = 0\n",
    "        for name in reactions:\n",
    "            error_sum += lit_exp_molpro_error[name][method][basis]\n",
    "        mean_error = error_sum / len(reactions)\n",
    "        lit_exp_molpro_meanerror[method][basis] =+ mean_error"
   ]
  },
  {
   "cell_type": "code",
   "execution_count": 20,
   "metadata": {},
   "outputs": [],
   "source": [
    "df_exp_reaction_meanerror=pd.DataFrame(data=lit_exp_molpro_meanerror)"
   ]
  },
  {
   "cell_type": "code",
   "execution_count": 21,
   "metadata": {},
   "outputs": [
    {
     "data": {
      "text/html": [
       "<div>\n",
       "<style scoped>\n",
       "    .dataframe tbody tr th:only-of-type {\n",
       "        vertical-align: middle;\n",
       "    }\n",
       "\n",
       "    .dataframe tbody tr th {\n",
       "        vertical-align: top;\n",
       "    }\n",
       "\n",
       "    .dataframe thead th {\n",
       "        text-align: right;\n",
       "    }\n",
       "</style>\n",
       "<table border=\"1\" class=\"dataframe\">\n",
       "  <thead>\n",
       "    <tr style=\"text-align: right;\">\n",
       "      <th></th>\n",
       "      <th>HF</th>\n",
       "      <th>MP2</th>\n",
       "      <th>MP3</th>\n",
       "      <th>PAPT2</th>\n",
       "      <th>PAPT3</th>\n",
       "      <th>CCSD</th>\n",
       "      <th>MP4</th>\n",
       "      <th>PAPT4</th>\n",
       "      <th>CCSD(T)</th>\n",
       "    </tr>\n",
       "  </thead>\n",
       "  <tbody>\n",
       "    <tr>\n",
       "      <th>cc-pCVDZ</th>\n",
       "      <td>14.95</td>\n",
       "      <td>22.20</td>\n",
       "      <td>8.58</td>\n",
       "      <td>22.26</td>\n",
       "      <td>22.85</td>\n",
       "      <td>25.40</td>\n",
       "      <td>35.42</td>\n",
       "      <td>32.63</td>\n",
       "      <td>33.39</td>\n",
       "    </tr>\n",
       "    <tr>\n",
       "      <th>cc-pCVTZ</th>\n",
       "      <td>13.32</td>\n",
       "      <td>0.33</td>\n",
       "      <td>-11.89</td>\n",
       "      <td>1.37</td>\n",
       "      <td>3.03</td>\n",
       "      <td>4.47</td>\n",
       "      <td>14.12</td>\n",
       "      <td>9.73</td>\n",
       "      <td>11.31</td>\n",
       "    </tr>\n",
       "    <tr>\n",
       "      <th>cc-pCVQZ</th>\n",
       "      <td>10.73</td>\n",
       "      <td>-7.64</td>\n",
       "      <td>-18.94</td>\n",
       "      <td>-6.04</td>\n",
       "      <td>-4.22</td>\n",
       "      <td>-3.32</td>\n",
       "      <td>5.86</td>\n",
       "      <td>1.46</td>\n",
       "      <td>3.02</td>\n",
       "    </tr>\n",
       "    <tr>\n",
       "      <th>cc-pCV5Z</th>\n",
       "      <td>9.25</td>\n",
       "      <td>-10.49</td>\n",
       "      <td>-21.00</td>\n",
       "      <td>-8.27</td>\n",
       "      <td>-6.37</td>\n",
       "      <td>-5.78</td>\n",
       "      <td>3.06</td>\n",
       "      <td>-1.12</td>\n",
       "      <td>0.39</td>\n",
       "    </tr>\n",
       "    <tr>\n",
       "      <th>DT</th>\n",
       "      <td>13.32</td>\n",
       "      <td>-8.20</td>\n",
       "      <td>-19.82</td>\n",
       "      <td>-6.73</td>\n",
       "      <td>-4.63</td>\n",
       "      <td>-3.65</td>\n",
       "      <td>5.84</td>\n",
       "      <td>0.78</td>\n",
       "      <td>2.70</td>\n",
       "    </tr>\n",
       "    <tr>\n",
       "      <th>TQ</th>\n",
       "      <td>10.73</td>\n",
       "      <td>-11.56</td>\n",
       "      <td>-22.19</td>\n",
       "      <td>-9.55</td>\n",
       "      <td>-7.61</td>\n",
       "      <td>-7.11</td>\n",
       "      <td>1.72</td>\n",
       "      <td>-2.69</td>\n",
       "      <td>-1.13</td>\n",
       "    </tr>\n",
       "    <tr>\n",
       "      <th>Q5</th>\n",
       "      <td>9.25</td>\n",
       "      <td>-11.94</td>\n",
       "      <td>-21.61</td>\n",
       "      <td>-9.05</td>\n",
       "      <td>-7.09</td>\n",
       "      <td>-6.81</td>\n",
       "      <td>1.68</td>\n",
       "      <td>-2.28</td>\n",
       "      <td>-0.83</td>\n",
       "    </tr>\n",
       "  </tbody>\n",
       "</table>\n",
       "</div>"
      ],
      "text/plain": [
       "             HF    MP2    MP3  PAPT2  PAPT3   CCSD    MP4  PAPT4  CCSD(T)\n",
       "cc-pCVDZ  14.95  22.20   8.58  22.26  22.85  25.40  35.42  32.63    33.39\n",
       "cc-pCVTZ  13.32   0.33 -11.89   1.37   3.03   4.47  14.12   9.73    11.31\n",
       "cc-pCVQZ  10.73  -7.64 -18.94  -6.04  -4.22  -3.32   5.86   1.46     3.02\n",
       "cc-pCV5Z   9.25 -10.49 -21.00  -8.27  -6.37  -5.78   3.06  -1.12     0.39\n",
       "DT        13.32  -8.20 -19.82  -6.73  -4.63  -3.65   5.84   0.78     2.70\n",
       "TQ        10.73 -11.56 -22.19  -9.55  -7.61  -7.11   1.72  -2.69    -1.13\n",
       "Q5         9.25 -11.94 -21.61  -9.05  -7.09  -6.81   1.68  -2.28    -0.83"
      ]
     },
     "execution_count": 21,
     "metadata": {},
     "output_type": "execute_result"
    }
   ],
   "source": [
    "df_exp_reaction_meanerror"
   ]
  },
  {
   "cell_type": "markdown",
   "metadata": {},
   "source": [
    "### Mean absolute error"
   ]
  },
  {
   "cell_type": "code",
   "execution_count": 22,
   "metadata": {},
   "outputs": [],
   "source": [
    "lit_exp_molpro_abserror={}\n",
    "for name in reactions:\n",
    "    lit_exp_molpro_abserror[name]={}\n",
    "    for method in methods:\n",
    "        lit_exp_molpro_abserror[name][method]={}\n",
    "        for basis in bases:\n",
    "            lit_exp_molpro_abserror[name][method][basis]={}\n",
    "            test_enthalpy = Molpro_enthalpy[method][basis][name]\n",
    "            comparison_enthalpy = Exp_enthalpy[name]\n",
    "            error = abs(test_enthalpy - comparison_enthalpy)\n",
    "            lit_exp_molpro_abserror[name][method][basis] =+ error\n",
    "\n",
    "\n",
    "lit_exp_molpro_meanabserror={}\n",
    "for method in methods:\n",
    "    lit_exp_molpro_meanabserror[method]={}\n",
    "    for basis in bases:\n",
    "        lit_exp_molpro_meanabserror[method][basis]={}\n",
    "        error_sum = 0\n",
    "        for name in reactions:\n",
    "            error_sum += lit_exp_molpro_abserror[name][method][basis]\n",
    "        mean_error = error_sum / len(reactions)\n",
    "        lit_exp_molpro_meanabserror[method][basis] =+ mean_error"
   ]
  },
  {
   "cell_type": "code",
   "execution_count": 23,
   "metadata": {},
   "outputs": [],
   "source": [
    "df_exp_reaction_meanabserror=pd.DataFrame(data=lit_exp_molpro_meanabserror)"
   ]
  },
  {
   "cell_type": "code",
   "execution_count": 24,
   "metadata": {},
   "outputs": [
    {
     "data": {
      "text/html": [
       "<div>\n",
       "<style scoped>\n",
       "    .dataframe tbody tr th:only-of-type {\n",
       "        vertical-align: middle;\n",
       "    }\n",
       "\n",
       "    .dataframe tbody tr th {\n",
       "        vertical-align: top;\n",
       "    }\n",
       "\n",
       "    .dataframe thead th {\n",
       "        text-align: right;\n",
       "    }\n",
       "</style>\n",
       "<table border=\"1\" class=\"dataframe\">\n",
       "  <thead>\n",
       "    <tr style=\"text-align: right;\">\n",
       "      <th></th>\n",
       "      <th>HF</th>\n",
       "      <th>MP2</th>\n",
       "      <th>MP3</th>\n",
       "      <th>PAPT2</th>\n",
       "      <th>PAPT3</th>\n",
       "      <th>CCSD</th>\n",
       "      <th>MP4</th>\n",
       "      <th>PAPT4</th>\n",
       "      <th>CCSD(T)</th>\n",
       "    </tr>\n",
       "  </thead>\n",
       "  <tbody>\n",
       "    <tr>\n",
       "      <th>cc-pCVDZ</th>\n",
       "      <td>29.77</td>\n",
       "      <td>30.99</td>\n",
       "      <td>17.23</td>\n",
       "      <td>29.13</td>\n",
       "      <td>29.67</td>\n",
       "      <td>30.85</td>\n",
       "      <td>38.42</td>\n",
       "      <td>36.65</td>\n",
       "      <td>36.73</td>\n",
       "    </tr>\n",
       "    <tr>\n",
       "      <th>cc-pCVTZ</th>\n",
       "      <td>28.67</td>\n",
       "      <td>13.74</td>\n",
       "      <td>12.20</td>\n",
       "      <td>8.12</td>\n",
       "      <td>8.76</td>\n",
       "      <td>7.86</td>\n",
       "      <td>16.36</td>\n",
       "      <td>11.24</td>\n",
       "      <td>12.05</td>\n",
       "    </tr>\n",
       "    <tr>\n",
       "      <th>cc-pCVQZ</th>\n",
       "      <td>29.14</td>\n",
       "      <td>13.49</td>\n",
       "      <td>18.94</td>\n",
       "      <td>9.84</td>\n",
       "      <td>9.37</td>\n",
       "      <td>7.36</td>\n",
       "      <td>9.36</td>\n",
       "      <td>3.15</td>\n",
       "      <td>3.70</td>\n",
       "    </tr>\n",
       "    <tr>\n",
       "      <th>cc-pCV5Z</th>\n",
       "      <td>29.06</td>\n",
       "      <td>14.46</td>\n",
       "      <td>21.00</td>\n",
       "      <td>11.51</td>\n",
       "      <td>10.92</td>\n",
       "      <td>9.37</td>\n",
       "      <td>7.31</td>\n",
       "      <td>1.38</td>\n",
       "      <td>1.30</td>\n",
       "    </tr>\n",
       "    <tr>\n",
       "      <th>DT</th>\n",
       "      <td>28.67</td>\n",
       "      <td>12.39</td>\n",
       "      <td>19.82</td>\n",
       "      <td>10.43</td>\n",
       "      <td>9.91</td>\n",
       "      <td>7.62</td>\n",
       "      <td>10.28</td>\n",
       "      <td>4.11</td>\n",
       "      <td>4.37</td>\n",
       "    </tr>\n",
       "    <tr>\n",
       "      <th>TQ</th>\n",
       "      <td>29.14</td>\n",
       "      <td>14.76</td>\n",
       "      <td>22.19</td>\n",
       "      <td>12.00</td>\n",
       "      <td>11.39</td>\n",
       "      <td>9.94</td>\n",
       "      <td>6.93</td>\n",
       "      <td>2.78</td>\n",
       "      <td>1.33</td>\n",
       "    </tr>\n",
       "    <tr>\n",
       "      <th>Q5</th>\n",
       "      <td>29.06</td>\n",
       "      <td>15.42</td>\n",
       "      <td>21.61</td>\n",
       "      <td>11.71</td>\n",
       "      <td>11.10</td>\n",
       "      <td>9.93</td>\n",
       "      <td>7.03</td>\n",
       "      <td>2.28</td>\n",
       "      <td>1.19</td>\n",
       "    </tr>\n",
       "  </tbody>\n",
       "</table>\n",
       "</div>"
      ],
      "text/plain": [
       "             HF    MP2    MP3  PAPT2  PAPT3   CCSD    MP4  PAPT4  CCSD(T)\n",
       "cc-pCVDZ  29.77  30.99  17.23  29.13  29.67  30.85  38.42  36.65    36.73\n",
       "cc-pCVTZ  28.67  13.74  12.20   8.12   8.76   7.86  16.36  11.24    12.05\n",
       "cc-pCVQZ  29.14  13.49  18.94   9.84   9.37   7.36   9.36   3.15     3.70\n",
       "cc-pCV5Z  29.06  14.46  21.00  11.51  10.92   9.37   7.31   1.38     1.30\n",
       "DT        28.67  12.39  19.82  10.43   9.91   7.62  10.28   4.11     4.37\n",
       "TQ        29.14  14.76  22.19  12.00  11.39   9.94   6.93   2.78     1.33\n",
       "Q5        29.06  15.42  21.61  11.71  11.10   9.93   7.03   2.28     1.19"
      ]
     },
     "execution_count": 24,
     "metadata": {},
     "output_type": "execute_result"
    }
   ],
   "source": [
    "df_exp_reaction_meanabserror"
   ]
  },
  {
   "cell_type": "markdown",
   "metadata": {},
   "source": [
    "### Maximum error"
   ]
  },
  {
   "cell_type": "code",
   "execution_count": 25,
   "metadata": {},
   "outputs": [],
   "source": [
    "lit_exp_molpro_maxerror={}\n",
    "for method in methods:\n",
    "    lit_exp_molpro_maxerror[method]={}\n",
    "    for basis in bases:\n",
    "        lit_exp_molpro_maxerror[method][basis]={}\n",
    "        max_error = 0\n",
    "        for name in reactions:\n",
    "            if abs(lit_exp_molpro_error[name][method][basis]) > abs(max_error):\n",
    "                max_error = lit_exp_molpro_error[name][method][basis]\n",
    "        lit_exp_molpro_maxerror[method][basis] =+ max_error"
   ]
  },
  {
   "cell_type": "code",
   "execution_count": 26,
   "metadata": {},
   "outputs": [],
   "source": [
    "df_exp_reaction_maxerror=pd.DataFrame(data=lit_exp_molpro_maxerror)"
   ]
  },
  {
   "cell_type": "code",
   "execution_count": 27,
   "metadata": {},
   "outputs": [
    {
     "data": {
      "text/html": [
       "<div>\n",
       "<style scoped>\n",
       "    .dataframe tbody tr th:only-of-type {\n",
       "        vertical-align: middle;\n",
       "    }\n",
       "\n",
       "    .dataframe tbody tr th {\n",
       "        vertical-align: top;\n",
       "    }\n",
       "\n",
       "    .dataframe thead th {\n",
       "        text-align: right;\n",
       "    }\n",
       "</style>\n",
       "<table border=\"1\" class=\"dataframe\">\n",
       "  <thead>\n",
       "    <tr style=\"text-align: right;\">\n",
       "      <th></th>\n",
       "      <th>HF</th>\n",
       "      <th>MP2</th>\n",
       "      <th>MP3</th>\n",
       "      <th>PAPT2</th>\n",
       "      <th>PAPT3</th>\n",
       "      <th>CCSD</th>\n",
       "      <th>MP4</th>\n",
       "      <th>PAPT4</th>\n",
       "      <th>CCSD(T)</th>\n",
       "    </tr>\n",
       "  </thead>\n",
       "  <tbody>\n",
       "    <tr>\n",
       "      <th>cc-pCVDZ</th>\n",
       "      <td>115.10</td>\n",
       "      <td>76.54</td>\n",
       "      <td>-34.35</td>\n",
       "      <td>48.95</td>\n",
       "      <td>48.41</td>\n",
       "      <td>51.60</td>\n",
       "      <td>85.94</td>\n",
       "      <td>64.50</td>\n",
       "      <td>65.92</td>\n",
       "    </tr>\n",
       "    <tr>\n",
       "      <th>cc-pCVTZ</th>\n",
       "      <td>112.33</td>\n",
       "      <td>-44.43</td>\n",
       "      <td>-26.22</td>\n",
       "      <td>24.64</td>\n",
       "      <td>29.20</td>\n",
       "      <td>24.35</td>\n",
       "      <td>41.33</td>\n",
       "      <td>19.45</td>\n",
       "      <td>21.33</td>\n",
       "    </tr>\n",
       "    <tr>\n",
       "      <th>cc-pCVQZ</th>\n",
       "      <td>113.18</td>\n",
       "      <td>-48.75</td>\n",
       "      <td>-37.37</td>\n",
       "      <td>18.58</td>\n",
       "      <td>23.54</td>\n",
       "      <td>19.28</td>\n",
       "      <td>26.73</td>\n",
       "      <td>-5.96</td>\n",
       "      <td>6.97</td>\n",
       "    </tr>\n",
       "    <tr>\n",
       "      <th>cc-pCV5Z</th>\n",
       "      <td>113.66</td>\n",
       "      <td>-50.01</td>\n",
       "      <td>-41.36</td>\n",
       "      <td>-22.48</td>\n",
       "      <td>21.64</td>\n",
       "      <td>17.72</td>\n",
       "      <td>20.77</td>\n",
       "      <td>-5.07</td>\n",
       "      <td>3.00</td>\n",
       "    </tr>\n",
       "    <tr>\n",
       "      <th>DT</th>\n",
       "      <td>112.33</td>\n",
       "      <td>-49.48</td>\n",
       "      <td>-41.35</td>\n",
       "      <td>-21.81</td>\n",
       "      <td>24.22</td>\n",
       "      <td>19.85</td>\n",
       "      <td>24.17</td>\n",
       "      <td>11.96</td>\n",
       "      <td>10.79</td>\n",
       "    </tr>\n",
       "    <tr>\n",
       "      <th>TQ</th>\n",
       "      <td>113.18</td>\n",
       "      <td>-52.53</td>\n",
       "      <td>-41.50</td>\n",
       "      <td>-22.64</td>\n",
       "      <td>-19.89</td>\n",
       "      <td>-17.21</td>\n",
       "      <td>20.39</td>\n",
       "      <td>-6.89</td>\n",
       "      <td>-3.15</td>\n",
       "    </tr>\n",
       "    <tr>\n",
       "      <th>Q5</th>\n",
       "      <td>113.66</td>\n",
       "      <td>-51.83</td>\n",
       "      <td>-41.44</td>\n",
       "      <td>-22.76</td>\n",
       "      <td>-20.04</td>\n",
       "      <td>-17.75</td>\n",
       "      <td>-18.71</td>\n",
       "      <td>-4.34</td>\n",
       "      <td>-3.49</td>\n",
       "    </tr>\n",
       "  </tbody>\n",
       "</table>\n",
       "</div>"
      ],
      "text/plain": [
       "              HF    MP2    MP3  PAPT2  PAPT3   CCSD    MP4  PAPT4  CCSD(T)\n",
       "cc-pCVDZ  115.10  76.54 -34.35  48.95  48.41  51.60  85.94  64.50    65.92\n",
       "cc-pCVTZ  112.33 -44.43 -26.22  24.64  29.20  24.35  41.33  19.45    21.33\n",
       "cc-pCVQZ  113.18 -48.75 -37.37  18.58  23.54  19.28  26.73  -5.96     6.97\n",
       "cc-pCV5Z  113.66 -50.01 -41.36 -22.48  21.64  17.72  20.77  -5.07     3.00\n",
       "DT        112.33 -49.48 -41.35 -21.81  24.22  19.85  24.17  11.96    10.79\n",
       "TQ        113.18 -52.53 -41.50 -22.64 -19.89 -17.21  20.39  -6.89    -3.15\n",
       "Q5        113.66 -51.83 -41.44 -22.76 -20.04 -17.75 -18.71  -4.34    -3.49"
      ]
     },
     "execution_count": 27,
     "metadata": {},
     "output_type": "execute_result"
    }
   ],
   "source": [
    "df_exp_reaction_maxerror"
   ]
  },
  {
   "cell_type": "markdown",
   "metadata": {},
   "source": [
    "### Standard deviation"
   ]
  },
  {
   "cell_type": "code",
   "execution_count": 28,
   "metadata": {},
   "outputs": [],
   "source": [
    "lit_exp_molpro_std={}\n",
    "for method in methods:\n",
    "    lit_exp_molpro_std[method]={}\n",
    "    for basis in bases:\n",
    "        lit_exp_molpro_std[method][basis]={}\n",
    "        sum_squared_errors = 0\n",
    "        for name in reactions:\n",
    "            squared_error = (lit_exp_molpro_error[name][method][basis] - lit_exp_molpro_meanerror[method][basis]) ** 2\n",
    "            sum_squared_errors += squared_error\n",
    "        SD_squared = sum_squared_errors / (len(reactions)-1)\n",
    "        SD = np.sqrt(SD_squared)\n",
    "        lit_exp_molpro_std[method][basis] = SD"
   ]
  },
  {
   "cell_type": "code",
   "execution_count": 29,
   "metadata": {},
   "outputs": [],
   "source": [
    "df_exp_reaction_std=pd.DataFrame(data=lit_exp_molpro_std)"
   ]
  },
  {
   "cell_type": "code",
   "execution_count": 30,
   "metadata": {},
   "outputs": [
    {
     "data": {
      "text/html": [
       "<div>\n",
       "<style scoped>\n",
       "    .dataframe tbody tr th:only-of-type {\n",
       "        vertical-align: middle;\n",
       "    }\n",
       "\n",
       "    .dataframe tbody tr th {\n",
       "        vertical-align: top;\n",
       "    }\n",
       "\n",
       "    .dataframe thead th {\n",
       "        text-align: right;\n",
       "    }\n",
       "</style>\n",
       "<table border=\"1\" class=\"dataframe\">\n",
       "  <thead>\n",
       "    <tr style=\"text-align: right;\">\n",
       "      <th></th>\n",
       "      <th>HF</th>\n",
       "      <th>MP2</th>\n",
       "      <th>MP3</th>\n",
       "      <th>PAPT2</th>\n",
       "      <th>PAPT3</th>\n",
       "      <th>CCSD</th>\n",
       "      <th>MP4</th>\n",
       "      <th>PAPT4</th>\n",
       "      <th>CCSD(T)</th>\n",
       "    </tr>\n",
       "  </thead>\n",
       "  <tbody>\n",
       "    <tr>\n",
       "      <th>cc-pCVDZ</th>\n",
       "      <td>39.46</td>\n",
       "      <td>31.15</td>\n",
       "      <td>18.68</td>\n",
       "      <td>23.01</td>\n",
       "      <td>23.16</td>\n",
       "      <td>22.61</td>\n",
       "      <td>30.93</td>\n",
       "      <td>26.50</td>\n",
       "      <td>25.92</td>\n",
       "    </tr>\n",
       "    <tr>\n",
       "      <th>cc-pCVTZ</th>\n",
       "      <td>39.03</td>\n",
       "      <td>19.53</td>\n",
       "      <td>9.12</td>\n",
       "      <td>10.52</td>\n",
       "      <td>11.23</td>\n",
       "      <td>9.03</td>\n",
       "      <td>14.50</td>\n",
       "      <td>8.46</td>\n",
       "      <td>8.07</td>\n",
       "    </tr>\n",
       "    <tr>\n",
       "      <th>cc-pCVQZ</th>\n",
       "      <td>40.60</td>\n",
       "      <td>18.27</td>\n",
       "      <td>10.14</td>\n",
       "      <td>9.84</td>\n",
       "      <td>10.62</td>\n",
       "      <td>8.65</td>\n",
       "      <td>10.44</td>\n",
       "      <td>3.30</td>\n",
       "      <td>2.88</td>\n",
       "    </tr>\n",
       "    <tr>\n",
       "      <th>cc-pCV5Z</th>\n",
       "      <td>41.24</td>\n",
       "      <td>18.17</td>\n",
       "      <td>11.05</td>\n",
       "      <td>10.11</td>\n",
       "      <td>10.88</td>\n",
       "      <td>9.20</td>\n",
       "      <td>9.15</td>\n",
       "      <td>1.83</td>\n",
       "      <td>1.51</td>\n",
       "    </tr>\n",
       "    <tr>\n",
       "      <th>DT</th>\n",
       "      <td>39.03</td>\n",
       "      <td>16.85</td>\n",
       "      <td>12.31</td>\n",
       "      <td>11.31</td>\n",
       "      <td>11.89</td>\n",
       "      <td>9.31</td>\n",
       "      <td>10.62</td>\n",
       "      <td>5.93</td>\n",
       "      <td>4.83</td>\n",
       "    </tr>\n",
       "    <tr>\n",
       "      <th>TQ</th>\n",
       "      <td>40.60</td>\n",
       "      <td>18.42</td>\n",
       "      <td>10.97</td>\n",
       "      <td>9.62</td>\n",
       "      <td>10.36</td>\n",
       "      <td>8.75</td>\n",
       "      <td>9.59</td>\n",
       "      <td>1.93</td>\n",
       "      <td>1.23</td>\n",
       "    </tr>\n",
       "    <tr>\n",
       "      <th>Q5</th>\n",
       "      <td>41.24</td>\n",
       "      <td>18.70</td>\n",
       "      <td>10.99</td>\n",
       "      <td>9.60</td>\n",
       "      <td>10.37</td>\n",
       "      <td>9.04</td>\n",
       "      <td>9.14</td>\n",
       "      <td>1.25</td>\n",
       "      <td>1.22</td>\n",
       "    </tr>\n",
       "  </tbody>\n",
       "</table>\n",
       "</div>"
      ],
      "text/plain": [
       "             HF    MP2    MP3  PAPT2  PAPT3   CCSD    MP4  PAPT4  CCSD(T)\n",
       "cc-pCVDZ  39.46  31.15  18.68  23.01  23.16  22.61  30.93  26.50    25.92\n",
       "cc-pCVTZ  39.03  19.53   9.12  10.52  11.23   9.03  14.50   8.46     8.07\n",
       "cc-pCVQZ  40.60  18.27  10.14   9.84  10.62   8.65  10.44   3.30     2.88\n",
       "cc-pCV5Z  41.24  18.17  11.05  10.11  10.88   9.20   9.15   1.83     1.51\n",
       "DT        39.03  16.85  12.31  11.31  11.89   9.31  10.62   5.93     4.83\n",
       "TQ        40.60  18.42  10.97   9.62  10.36   8.75   9.59   1.93     1.23\n",
       "Q5        41.24  18.70  10.99   9.60  10.37   9.04   9.14   1.25     1.22"
      ]
     },
     "execution_count": 30,
     "metadata": {},
     "output_type": "execute_result"
    }
   ],
   "source": [
    "df_exp_reaction_std"
   ]
  },
  {
   "cell_type": "code",
   "execution_count": 31,
   "metadata": {},
   "outputs": [],
   "source": [
    "with open(project_name+'.tex','w') as tf:\n",
    "    tf.write('\\\\def\\\\toprule{\\\\hline\\\\hline}\\n\\\\def\\\\midrule{\\\\hline}\\n\\\\def\\\\bottomrule{\\\\hline\\\\hline}')\n",
    "    tf.write(df_exp_reaction_meanerror.style.to_latex())\n",
    "    tf.write(df_exp_reaction_std.style.to_latex())\n",
    "    tf.write(df_exp_reaction_meanabserror.style.to_latex())\n",
    "    tf.write(df_exp_reaction_maxerror.style.to_latex())"
   ]
  }
 ],
 "metadata": {
  "kernelspec": {
   "display_name": "Python [conda env:pysjef] *",
   "language": "python",
   "name": "conda-env-pysjef-py"
  },
  "language_info": {
   "codemirror_mode": {
    "name": "ipython",
    "version": 3
   },
   "file_extension": ".py",
   "mimetype": "text/x-python",
   "name": "python",
   "nbconvert_exporter": "python",
   "pygments_lexer": "ipython3",
   "version": "3.10.6"
  },
  "toc": {
   "base_numbering": 1,
   "nav_menu": {},
   "number_sections": true,
   "sideBar": true,
   "skip_h1_title": false,
   "title_cell": "Table of Contents",
   "title_sidebar": "Contents",
   "toc_cell": false,
   "toc_position": {},
   "toc_section_display": true,
   "toc_window_display": false
  },
  "varInspector": {
   "cols": {
    "lenName": 16,
    "lenType": 16,
    "lenVar": 40
   },
   "kernels_config": {
    "python": {
     "delete_cmd_postfix": "",
     "delete_cmd_prefix": "del ",
     "library": "var_list.py",
     "varRefreshCmd": "print(var_dic_list())"
    },
    "r": {
     "delete_cmd_postfix": ") ",
     "delete_cmd_prefix": "rm(",
     "library": "var_list.r",
     "varRefreshCmd": "cat(var_dic_list()) "
    }
   },
   "types_to_exclude": [
    "module",
    "function",
    "builtin_function_or_method",
    "instance",
    "_Feature"
   ],
   "window_display": false
  }
 },
 "nbformat": 4,
 "nbformat_minor": 4
}
