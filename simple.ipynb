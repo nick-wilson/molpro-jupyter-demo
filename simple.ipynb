{
 "cells": [
  {
   "cell_type": "code",
   "execution_count": 9,
   "id": "b03ae419",
   "metadata": {},
   "outputs": [],
   "source": [
    "import pysjef, pysjef_molpro"
   ]
  },
  {
   "cell_type": "code",
   "execution_count": 10,
   "id": "5d4eb9e5",
   "metadata": {},
   "outputs": [],
   "source": [
    "p = pysjef_molpro.Project('simple')"
   ]
  },
  {
   "cell_type": "code",
   "execution_count": 11,
   "id": "668505a5",
   "metadata": {},
   "outputs": [],
   "source": [
    "p.write_input(\"geometry={He}; rhf\")"
   ]
  },
  {
   "cell_type": "code",
   "execution_count": 34,
   "id": "11856792",
   "metadata": {},
   "outputs": [],
   "source": [
    "p.run(wait=True, force=True)"
   ]
  },
  {
   "cell_type": "code",
   "execution_count": 35,
   "id": "1584a58f",
   "metadata": {},
   "outputs": [
    {
     "data": {
      "text/plain": [
       "'completed'"
      ]
     },
     "execution_count": 35,
     "metadata": {},
     "output_type": "execute_result"
    }
   ],
   "source": [
    "p.status"
   ]
  },
  {
   "cell_type": "code",
   "execution_count": 36,
   "id": "e7929d87",
   "metadata": {},
   "outputs": [
    {
     "data": {
      "text/plain": [
       "True"
      ]
     },
     "execution_count": 36,
     "metadata": {},
     "output_type": "execute_result"
    }
   ],
   "source": [
    "pysjef_molpro.no_errors([p])"
   ]
  },
  {
   "cell_type": "code",
   "execution_count": 37,
   "id": "be07c3b3",
   "metadata": {},
   "outputs": [
    {
     "data": {
      "text/plain": [
       "[]"
      ]
     },
     "execution_count": 37,
     "metadata": {},
     "output_type": "execute_result"
    }
   ],
   "source": [
    "p.select('//jobstep[command=RHF-SCF]/property[name=Energy].value')"
   ]
  },
  {
   "cell_type": "code",
   "execution_count": 38,
   "id": "6796e623",
   "metadata": {},
   "outputs": [
    {
     "data": {
      "text/plain": [
       "[]"
      ]
     },
     "execution_count": 38,
     "metadata": {},
     "output_type": "execute_result"
    }
   ],
   "source": [
    "p.select('//version.major')+p.select('//version.minor')"
   ]
  },
  {
   "cell_type": "code",
   "execution_count": 28,
   "id": "0c12523a",
   "metadata": {},
   "outputs": [
    {
     "data": {
      "text/plain": [
       "<pysjef.node_xml.RootXml at 0x7f7444f34430>"
      ]
     },
     "execution_count": 28,
     "metadata": {},
     "output_type": "execute_result"
    }
   ],
   "source": [
    "p.output"
   ]
  },
  {
   "cell_type": "code",
   "execution_count": 29,
   "id": "7b02bd1c",
   "metadata": {},
   "outputs": [
    {
     "data": {
      "text/plain": [
       "<pysjef_molpro.project.MProject at 0x7f7464676910>"
      ]
     },
     "execution_count": 29,
     "metadata": {},
     "output_type": "execute_result"
    }
   ],
   "source": [
    "p"
   ]
  },
  {
   "cell_type": "code",
   "execution_count": 30,
   "id": "5bbe99b3",
   "metadata": {},
   "outputs": [
    {
     "data": {
      "text/plain": [
       "OrderedDict([('project_hash', 9859650900942379208),\n",
       "             ('name', 'simple'),\n",
       "             ('location',\n",
       "              PosixPath('/home/jovyan/work/examples/simple.molpro')),\n",
       "             ('suffix', '.molpro')])"
      ]
     },
     "execution_count": 30,
     "metadata": {},
     "output_type": "execute_result"
    }
   ],
   "source": [
    "p.attributes"
   ]
  },
  {
   "cell_type": "code",
   "execution_count": null,
   "id": "205d5803",
   "metadata": {},
   "outputs": [],
   "source": [
    "p.view_input()"
   ]
  },
  {
   "cell_type": "code",
   "execution_count": 43,
   "id": "e7e795b8",
   "metadata": {},
   "outputs": [],
   "source": [
    "root=p.select('//')"
   ]
  },
  {
   "cell_type": "code",
   "execution_count": 44,
   "id": "5b8e20cf",
   "metadata": {},
   "outputs": [
    {
     "data": {
      "text/plain": [
       "[<pysjef.node_xml.RootXml at 0x7f7435939c10>]"
      ]
     },
     "execution_count": 44,
     "metadata": {},
     "output_type": "execute_result"
    }
   ],
   "source": [
    "root"
   ]
  },
  {
   "cell_type": "code",
   "execution_count": 52,
   "id": "c82d4f28",
   "metadata": {},
   "outputs": [
    {
     "data": {
      "text/plain": [
       "[<pysjef.node_xml.GenericXml at 0x7f7435939370>]"
      ]
     },
     "execution_count": 52,
     "metadata": {},
     "output_type": "execute_result"
    }
   ],
   "source": [
    "root[0].children"
   ]
  },
  {
   "cell_type": "code",
   "execution_count": null,
   "id": "2ae03b25",
   "metadata": {},
   "outputs": [],
   "source": []
  }
 ],
 "metadata": {
  "kernelspec": {
   "display_name": "Python 3 (ipykernel)",
   "language": "python",
   "name": "python3"
  },
  "language_info": {
   "codemirror_mode": {
    "name": "ipython",
    "version": 3
   },
   "file_extension": ".py",
   "mimetype": "text/x-python",
   "name": "python",
   "nbconvert_exporter": "python",
   "pygments_lexer": "ipython3",
   "version": "3.9.7"
  }
 },
 "nbformat": 4,
 "nbformat_minor": 5
}
