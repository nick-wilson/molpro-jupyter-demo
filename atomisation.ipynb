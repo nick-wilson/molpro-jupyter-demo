{
 "cells": [
  {
   "cell_type": "code",
   "execution_count": 1,
   "metadata": {},
   "outputs": [],
   "source": [
    "backend = 'local' # If preferred, change this to one of the backends in your ~/.sjef/molpro/backends.xml that is ssh-accessible"
   ]
  },
  {
   "cell_type": "code",
   "execution_count": 2,
   "metadata": {},
   "outputs": [],
   "source": [
    "methods = ['B3LYP','HF','MP2','CCSD','CCSD(T)']\n",
    "bases = ['cc-pVDZ','cc-pVTZ']"
   ]
  },
  {
   "cell_type": "markdown",
   "metadata": {},
   "source": [
    "[doi:10.1063/1.1357225](https://doi.org/10.1063/1.1357225) and [doi:10.1063/1.481544](https://doi.org/10.1063/1.481544)"
   ]
  },
  {
   "cell_type": "code",
   "execution_count": 3,
   "metadata": {},
   "outputs": [],
   "source": [
    "molecules={}\n",
    "molecules[\"F2\"] = {\"De_exp\" : 163.35, \"De_calc\" : 161.04, \"geometry\" : \"F;F,F,1.4113\", \"stoichiometry\": \"FF\"}\n",
    "molecules[\"H2\"] = {\"De_exp\" : 458.04, \"De_calc\" : 458.13, \"geometry\" : \"H;H,H,.7419\", \"stoichiometry\": \"HH\"}"
   ]
  },
  {
   "cell_type": "code",
   "execution_count": 4,
   "metadata": {},
   "outputs": [],
   "source": [
    "closed_shell_methods={'B3LYP' : \"ks, b3lyp\", \"HF\" : \"rhf\", \"MP2\":\"mp2\",\"MP3\":\"mp3\",\"MP4\":\"mp4\",\"CCSD\":\"ccsd\",\"CCSD(T)\":\"ccsd(t)\"}\n",
    "open_shell_methods={'B3LYP' : \"rks, b3lyp\", \"HF\" : \"rhf\", \"MP2\":\"rmp2\",\"MP3\":\"rmp3\",\"MP4\":\"rmp4\",\"CCSD\":\"rccsd\",\"CCSD(T)\":\"rccsd(t)\"}\n"
   ]
  },
  {
   "cell_type": "code",
   "execution_count": 5,
   "metadata": {},
   "outputs": [],
   "source": [
    "from pysjef import all_completed, DirectoryNode\n",
    "from pysjef_molpro import no_errors, Project\n",
    "import numpy"
   ]
  },
  {
   "cell_type": "code",
   "execution_count": 6,
   "metadata": {},
   "outputs": [],
   "source": [
    "atoms={}\n",
    "for molecule in molecules:\n",
    "    for atom in molecules[molecule][\"stoichiometry\"]:\n",
    "        atoms[atom]={\"geometry\" : atom, \"open_shell\" : True}"
   ]
  },
  {
   "cell_type": "code",
   "execution_count": 7,
   "metadata": {},
   "outputs": [],
   "source": [
    "root = DirectoryNode('atomisation')"
   ]
  },
  {
   "cell_type": "code",
   "execution_count": 8,
   "metadata": {},
   "outputs": [],
   "source": [
    "def proj(molecule,method,basis):\n",
    "    return Project((molecule+\":\"+method+\":\"+basis).replace('(T)','-T'),location='atomisation',suffix='molpro')"
   ]
  },
  {
   "cell_type": "code",
   "execution_count": 9,
   "metadata": {},
   "outputs": [
    {
     "name": "stdout",
     "output_type": "stream",
     "text": [
      "{'geometry': 'F', 'open_shell': True}\n",
      "{'geometry': 'H', 'open_shell': True}\n",
      "{'De_exp': 163.35, 'De_calc': 161.04, 'geometry': 'F;F,F,1.4113', 'stoichiometry': 'FF'}\n",
      "{'De_exp': 458.04, 'De_calc': 458.13, 'geometry': 'H;H,H,.7419', 'stoichiometry': 'HH'}\n"
     ]
    }
   ],
   "source": [
    "for molecule, content in (atoms | molecules).items():\n",
    "    print(content)"
   ]
  },
  {
   "cell_type": "code",
   "execution_count": 10,
   "metadata": {},
   "outputs": [],
   "source": [
    "for method in methods:\n",
    "    for basis in bases:\n",
    "        for molecule, content in (atoms | molecules).items():\n",
    "            p = proj(molecule,method,basis)\n",
    "            root.children.append(p)\n",
    "            p.write_input(\n",
    "            f\"\"\"angstrom;geometry={{\n",
    "            {content[\"geometry\"]}\n",
    "            }}\n",
    "            basis = {basis}\n",
    "            rhf\n",
    "            {open_shell_methods[method] if content.get(\"open_shell\") else closed_shell_methods[method]}\n",
    "            \"\"\")"
   ]
  },
  {
   "cell_type": "code",
   "execution_count": 11,
   "metadata": {},
   "outputs": [
    {
     "name": "stdout",
     "output_type": "stream",
     "text": [
      "all completed False\n",
      "without errors True\n"
     ]
    }
   ],
   "source": [
    "from multiprocessing.dummy import Pool\n",
    "from operator import methodcaller\n",
    "with Pool(processes=4) as pool:\n",
    "    pool.map(methodcaller('run', backend=backend, wait=True),\n",
    "             root.children, 1)\n",
    "print('all completed', all_completed(root.children))\n",
    "print('without errors', no_errors(root.children))"
   ]
  },
  {
   "cell_type": "code",
   "execution_count": 12,
   "metadata": {},
   "outputs": [],
   "source": [
    "def get_energy(proj):\n",
    "    return ([None]+proj.select('//jobstep/property[name=Energy].value') + proj.select('//jobstep/property[name=total energy].value'))[-1]"
   ]
  },
  {
   "cell_type": "code",
   "execution_count": 13,
   "metadata": {
    "scrolled": false
   },
   "outputs": [
    {
     "name": "stdout",
     "output_type": "stream",
     "text": [
      "B3LYP cc-pVDZ F -99.6909038089714\n",
      "B3LYP cc-pVDZ H -0.497858658956189\n",
      "B3LYP cc-pVDZ F2 -199.44486245998\n",
      "B3LYP cc-pVDZ H2 -1.16656361368232\n",
      "B3LYP cc-pVTZ F -99.7267255367631\n",
      "B3LYP cc-pVTZ H -0.498765015439255\n",
      "B3LYP cc-pVTZ F2 -199.517848816162\n",
      "B3LYP cc-pVTZ H2 -1.17324207794776\n",
      "HF cc-pVDZ F -99.3718619400978\n",
      "HF cc-pVDZ H -0.499278403419583\n",
      "HF cc-pVDZ F2 -198.685730306198\n",
      "HF cc-pVDZ H2 -1.12871955893311\n",
      "HF cc-pVTZ F -99.4009352721451\n",
      "HF cc-pVTZ H -0.499809811301844\n",
      "HF cc-pVTZ F2 -198.752127239944\n",
      "HF cc-pVTZ H2 -1.13295027334918\n",
      "MP2 cc-pVDZ F -99.5105296778471\n",
      "MP2 cc-pVDZ H -0.499278403419583\n",
      "MP2 cc-pVDZ F2 -199.079576895418\n",
      "MP2 cc-pVDZ H2 -1.15510832068181\n",
      "MP2 cc-pVTZ F -99.6001581300329\n",
      "MP2 cc-pVTZ H -0.499809811301843\n",
      "MP2 cc-pVTZ F2 -199.274531942485\n",
      "MP2 cc-pVTZ H2 -1.16463331230473\n",
      "CCSD cc-pVDZ F -99.526613482758\n",
      "CCSD cc-pVDZ H -0.499278403419583\n",
      "CCSD cc-pVDZ F2 -199.088444706371\n",
      "CCSD cc-pVDZ H2 -1.16342731588449\n",
      "CCSD cc-pVTZ F -99.6165681863372\n",
      "CCSD cc-pVTZ H -0.499809811301843\n",
      "CCSD cc-pVTZ F2 -199.278129196566\n",
      "CCSD cc-pVTZ H2 -1.17233634795324\n",
      "CCSD(T) cc-pVDZ F -99.5275188014523\n",
      "CCSD(T) cc-pVDZ H -0.499278403419583\n",
      "CCSD(T) cc-pVDZ F2 -199.097455526047\n",
      "CCSD(T) cc-pVDZ H2 -1.16342731588449\n",
      "CCSD(T) cc-pVTZ F -99.6202154552124\n",
      "CCSD(T) cc-pVTZ H -0.499809811301843\n",
      "CCSD(T) cc-pVTZ F2 -199.296100820584\n",
      "CCSD(T) cc-pVTZ H2 -1.17233634795324\n"
     ]
    }
   ],
   "source": [
    "energies={}\n",
    "for method in methods:\n",
    "    energies[method]={}\n",
    "    for basis in bases:\n",
    "        energies[method][basis]={}\n",
    "        for name, molecule in (atoms | molecules).items():\n",
    "            energies[method][basis][name]=get_energy(proj(name,method,basis))\n",
    "            print(method, basis, name,energies[method][basis][name])\n",
    "        "
   ]
  },
  {
   "cell_type": "code",
   "execution_count": 14,
   "metadata": {},
   "outputs": [
    {
     "data": {
      "text/plain": [
       "{'B3LYP': {'cc-pVDZ': {'F': -99.6909038089714,\n",
       "   'H': -0.497858658956189,\n",
       "   'F2': -199.44486245998,\n",
       "   'H2': -1.16656361368232},\n",
       "  'cc-pVTZ': {'F': -99.7267255367631,\n",
       "   'H': -0.498765015439255,\n",
       "   'F2': -199.517848816162,\n",
       "   'H2': -1.17324207794776}},\n",
       " 'HF': {'cc-pVDZ': {'F': -99.3718619400978,\n",
       "   'H': -0.499278403419583,\n",
       "   'F2': -198.685730306198,\n",
       "   'H2': -1.12871955893311},\n",
       "  'cc-pVTZ': {'F': -99.4009352721451,\n",
       "   'H': -0.499809811301844,\n",
       "   'F2': -198.752127239944,\n",
       "   'H2': -1.13295027334918}},\n",
       " 'MP2': {'cc-pVDZ': {'F': -99.5105296778471,\n",
       "   'H': -0.499278403419583,\n",
       "   'F2': -199.079576895418,\n",
       "   'H2': -1.15510832068181},\n",
       "  'cc-pVTZ': {'F': -99.6001581300329,\n",
       "   'H': -0.499809811301843,\n",
       "   'F2': -199.274531942485,\n",
       "   'H2': -1.16463331230473}},\n",
       " 'CCSD': {'cc-pVDZ': {'F': -99.526613482758,\n",
       "   'H': -0.499278403419583,\n",
       "   'F2': -199.088444706371,\n",
       "   'H2': -1.16342731588449},\n",
       "  'cc-pVTZ': {'F': -99.6165681863372,\n",
       "   'H': -0.499809811301843,\n",
       "   'F2': -199.278129196566,\n",
       "   'H2': -1.17233634795324}},\n",
       " 'CCSD(T)': {'cc-pVDZ': {'F': -99.5275188014523,\n",
       "   'H': -0.499278403419583,\n",
       "   'F2': -199.097455526047,\n",
       "   'H2': -1.16342731588449},\n",
       "  'cc-pVTZ': {'F': -99.6202154552124,\n",
       "   'H': -0.499809811301843,\n",
       "   'F2': -199.296100820584,\n",
       "   'H2': -1.17233634795324}}}"
      ]
     },
     "execution_count": 14,
     "metadata": {},
     "output_type": "execute_result"
    }
   ],
   "source": [
    "energies"
   ]
  },
  {
   "cell_type": "code",
   "execution_count": 15,
   "metadata": {},
   "outputs": [
    {
     "name": "stdout",
     "output_type": "stream",
     "text": [
      "B3LYP cc-pVDZ F2 165.5504650361093 163.35 161.04\n",
      "B3LYP cc-pVDZ H2 448.55688795047615 458.04 458.13\n",
      "B3LYP cc-pVTZ F2 169.07625007363157 163.35 161.04\n",
      "B3LYP cc-pVTZ H2 461.3319162326085 458.04 458.13\n",
      "HF cc-pVDZ F2 -152.2621076228726 163.35 161.04\n",
      "HF cc-pVDZ H2 341.7422586963748 458.04 458.13\n",
      "HF cc-pVTZ F2 -130.6010276275133 163.35 161.04\n",
      "HF cc-pVTZ H2 350.05957546392335 458.04 458.13\n",
      "MP2 cc-pVDZ F2 153.63777944807956 163.35 161.04\n",
      "MP2 cc-pVDZ H2 411.0259431539102 458.04 458.13\n",
      "MP2 cc-pVTZ F2 194.85324743539266 163.35 161.04\n",
      "MP2 cc-pVTZ H2 433.243382819356 458.04 458.13\n",
      "CCSD cc-pVDZ F2 92.46416591814881 163.35 161.04\n",
      "CCSD cc-pVDZ H2 432.8674620593826 458.04 458.13\n",
      "CCSD cc-pVTZ F2 118.12864290655722 163.35 161.04\n",
      "CCSD cc-pVTZ H2 453.46770013742037 458.04 458.13\n",
      "CCSD(T) cc-pVDZ F2 111.36824191788547 163.35 161.04\n",
      "CCSD(T) cc-pVDZ H2 432.8674620593826 458.04 458.13\n",
      "CCSD(T) cc-pVTZ F2 146.16132905285303 163.35 161.04\n",
      "CCSD(T) cc-pVTZ H2 453.46770013742037 458.04 458.13\n"
     ]
    }
   ],
   "source": [
    "De={}\n",
    "for method in methods:\n",
    "    De[method]={}\n",
    "    for basis in bases:\n",
    "        De[method][basis]={}\n",
    "        for name, molecule in molecules.items():\n",
    "            De[method][basis][name]=-energies[method][basis][name]\n",
    "            for atom in molecule[\"stoichiometry\"]:\n",
    "                De[method][basis][name] += energies[method][basis][atom]\n",
    "            De[method][basis][name] *= 2625.49963948\n",
    "            print(method, basis, name,De[method][basis][name],molecule[\"De_exp\"],molecule[\"De_calc\"])"
   ]
  },
  {
   "cell_type": "code",
   "execution_count": null,
   "metadata": {},
   "outputs": [],
   "source": []
  }
 ],
 "metadata": {
  "kernelspec": {
   "display_name": "Python 3 (ipykernel)",
   "language": "python",
   "name": "python3"
  },
  "language_info": {
   "codemirror_mode": {
    "name": "ipython",
    "version": 3
   },
   "file_extension": ".py",
   "mimetype": "text/x-python",
   "name": "python",
   "nbconvert_exporter": "python",
   "pygments_lexer": "ipython3",
   "version": "3.9.7"
  },
  "toc": {
   "base_numbering": 1,
   "nav_menu": {},
   "number_sections": true,
   "sideBar": true,
   "skip_h1_title": false,
   "title_cell": "Table of Contents",
   "title_sidebar": "Contents",
   "toc_cell": false,
   "toc_position": {},
   "toc_section_display": true,
   "toc_window_display": false
  },
  "varInspector": {
   "cols": {
    "lenName": 16,
    "lenType": 16,
    "lenVar": 40
   },
   "kernels_config": {
    "python": {
     "delete_cmd_postfix": "",
     "delete_cmd_prefix": "del ",
     "library": "var_list.py",
     "varRefreshCmd": "print(var_dic_list())"
    },
    "r": {
     "delete_cmd_postfix": ") ",
     "delete_cmd_prefix": "rm(",
     "library": "var_list.r",
     "varRefreshCmd": "cat(var_dic_list()) "
    }
   },
   "types_to_exclude": [
    "module",
    "function",
    "builtin_function_or_method",
    "instance",
    "_Feature"
   ],
   "window_display": false
  }
 },
 "nbformat": 4,
 "nbformat_minor": 4
}
